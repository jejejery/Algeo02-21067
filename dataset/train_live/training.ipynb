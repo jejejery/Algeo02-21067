{
 "cells": [
  {
   "cell_type": "code",
   "execution_count": 17,
   "metadata": {},
   "outputs": [],
   "source": [
    "import os\n",
    "import time\n",
    "import cv2\n",
    "import numpy as np\n",
    "from PIL import ImageTk, Image"
   ]
  },
  {
   "cell_type": "code",
   "execution_count": 7,
   "metadata": {},
   "outputs": [],
   "source": [
    "dir = r'C:\\\\Users\\\\ASUS\\\\Documents\\\\Programming\\\\Python\\\\Algeo02-21067\\\\dataset\\\\train_live'\n"
   ]
  },
  {
   "cell_type": "code",
   "execution_count": 11,
   "metadata": {},
   "outputs": [
    {
     "name": "stdout",
     "output_type": "stream",
     "text": [
      "C:\\\\Users\\\\ASUS\\\\Documents\\\\Programming\\\\Python\\\\Algeo02-21067\\\\dataset\\\\train_live\\poke.jpg\n"
     ]
    }
   ],
   "source": [
    "imgname = os.path.join(dir,\"poke.jpg\")\n",
    "print(imgname)"
   ]
  },
  {
   "cell_type": "code",
   "execution_count": 22,
   "metadata": {},
   "outputs": [],
   "source": [
    "def get_images(dir,n,label):\n",
    "    cap = cv2.VideoCapture(0) #CONNECTS TO OUR WEBCAM\n",
    "    print('Collecting images: ')\n",
    "    time.sleep(4)\n",
    "    for k in range(n):\n",
    "        print(f'images{k+1}...')\n",
    "        ret, frame = cap.read()\n",
    "        # imgname = os.path.join(IMAGES_PATH,label,label+'.'+'{}.jpg'.format(str(uuid.uuid1())))\n",
    "        imgname = f\"{label}_{k+1}.jpg\"\n",
    "        cropped_image = frame[:, 160:480,:]\n",
    "        cv2.imwrite(imgname, cropped_image)\n",
    "        cv2.imshow('frame', frame)\n",
    "        time.sleep(2)\n",
    "\n",
    "        if cv2.waitKey(1) & 0xFF == ord('q'):\n",
    "            break\n",
    "    \n",
    "    cap.release()\n",
    "    cv2.destroyAllWindows()\n"
   ]
  },
  {
   "cell_type": "code",
   "execution_count": 23,
   "metadata": {},
   "outputs": [
    {
     "name": "stdout",
     "output_type": "stream",
     "text": [
      "Collecting images: \n",
      "images1...\n",
      "images2...\n",
      "images3...\n"
     ]
    }
   ],
   "source": [
    "get_images(dir,10,\"jerry\")"
   ]
  }
 ],
 "metadata": {
  "kernelspec": {
   "display_name": "Python 3.9.5 64-bit",
   "language": "python",
   "name": "python3"
  },
  "language_info": {
   "codemirror_mode": {
    "name": "ipython",
    "version": 3
   },
   "file_extension": ".py",
   "mimetype": "text/x-python",
   "name": "python",
   "nbconvert_exporter": "python",
   "pygments_lexer": "ipython3",
   "version": "3.9.5"
  },
  "orig_nbformat": 4,
  "vscode": {
   "interpreter": {
    "hash": "14958d3aee5f1cad06795f787e54b96185c25fb40dfec723a5be941f3a531b8c"
   }
  }
 },
 "nbformat": 4,
 "nbformat_minor": 2
}
